{
  "nbformat": 4,
  "nbformat_minor": 0,
  "metadata": {
    "colab": {
      "name": "TB_classification_(3).ipynb",
      "private_outputs": true,
      "provenance": [],
      "machine_shape": "hm"
    },
    "kernelspec": {
      "name": "python3",
      "display_name": "Python 3"
    },
    "accelerator": "GPU"
  },
  "cells": [
    {
      "cell_type": "code",
      "metadata": {
        "id": "yLCQ9ll_UolG"
      },
      "source": [
        ""
      ],
      "execution_count": null,
      "outputs": []
    },
    {
      "cell_type": "code",
      "metadata": {
        "id": "tf4h5exH1XUn"
      },
      "source": [
        "! pip install -q kaggle"
      ],
      "execution_count": null,
      "outputs": []
    },
    {
      "cell_type": "code",
      "metadata": {
        "id": "b-g-cEy4_XvI"
      },
      "source": [
        ""
      ],
      "execution_count": null,
      "outputs": []
    },
    {
      "cell_type": "code",
      "metadata": {
        "id": "wtF6xI2u_Zi-"
      },
      "source": [
        "from google.colab import drive\n",
        "drive.mount('/gdrive')\n",
        "%cd /gdrive"
      ],
      "execution_count": null,
      "outputs": []
    },
    {
      "cell_type": "code",
      "metadata": {
        "id": "cpTucHzT2cJZ"
      },
      "source": [
        "from google.colab import files\n",
        "\n",
        "\n",
        "uploaded = files.upload()\n",
        "\n",
        "for fn in uploaded.keys():\n",
        "  print('User uploaded file \"{name}\" with length {length} bytes'.format(\n",
        "      name=fn, length=len(uploaded[fn])))"
      ],
      "execution_count": null,
      "outputs": []
    },
    {
      "cell_type": "code",
      "metadata": {
        "id": "awcUowl42bpd"
      },
      "source": [
        "import os,glob\n",
        "import numpy as np\n",
        "import cv2\n",
        "\n",
        "import glob\n",
        "import pickle\n",
        "import tensorflow as tf\n",
        "import argparse\n",
        "import re\n",
        "import datetime\n",
        "from tensorflow.keras.layers import  Input,Conv2D,BatchNormalization,Activation,Subtract,LeakyReLU,Add,Average,Lambda,MaxPool2D,Dropout,UpSampling2D,Concatenate,Multiply,GlobalAveragePooling2D,Dense,ZeroPadding2D,AveragePooling2D\n",
        "from tensorflow.keras.layers import concatenate,Flatten,ConvLSTM2D,LayerNormalization,GlobalAveragePooling2D,DepthwiseConv2D,SeparableConv2D\n",
        "from tensorflow.keras.models import Model, load_model\n",
        "from tensorflow.keras.callbacks import CSVLogger, ModelCheckpoint, LearningRateScheduler \n",
        "from sklearn.metrics import classification_report, confusion_matrix,accuracy_score\n",
        "from tensorflow.keras.optimizers import Adam\n",
        "from tensorflow.keras import Sequential\n",
        "import tensorflow.keras.backend as K\n",
        "from sklearn.svm import LinearSVC\n",
        "import matplotlib.pyplot as plt\n",
        "from numpy import loadtxt\n",
        "from xgboost import XGBClassifier\n",
        "from sklearn.model_selection import train_test_split\n",
        "from sklearn.metrics import accuracy_score\n",
        "from skimage.feature import hog,local_binary_pattern\n",
        "from skimage import data, exposure\n",
        "from tensorflow.keras.layers import Layer"
      ],
      "execution_count": null,
      "outputs": []
    },
    {
      "cell_type": "code",
      "metadata": {
        "id": "nNeGeqnENoOT"
      },
      "source": [
        "! mkdir ~/.kaggle\n",
        "\n",
        "! cp kaggle.json ~/.kaggle/"
      ],
      "execution_count": null,
      "outputs": []
    },
    {
      "cell_type": "code",
      "metadata": {
        "id": "iSPJlXLpN-tL"
      },
      "source": [
        "! chmod 600 ~/.kaggle/kaggle.json"
      ],
      "execution_count": null,
      "outputs": []
    },
    {
      "cell_type": "code",
      "metadata": {
        "id": "FH9VI64E5ylm"
      },
      "source": [
        "!kaggle datasets download -d tawsifurrahman/tuberculosis-tb-chest-xray-dataset"
      ],
      "execution_count": null,
      "outputs": []
    },
    {
      "cell_type": "code",
      "metadata": {
        "id": "dz0lnu3tRBbx"
      },
      "source": [
        "!unzip /content/tuberculosis-tb-chest-xray-dataset.zip"
      ],
      "execution_count": null,
      "outputs": []
    },
    {
      "cell_type": "code",
      "metadata": {
        "id": "6i4V_r8AU39S"
      },
      "source": [
        "normal_files = []\n",
        "normal_dir = \"/content/TB_Chest_Radiography_Database/Normal\"\n",
        "dir1 = os.path.join(normal_dir,\"*.png\")\n",
        "normal_files = glob.glob(dir1)"
      ],
      "execution_count": null,
      "outputs": []
    },
    {
      "cell_type": "code",
      "metadata": {
        "id": "AuDUAaVlU3_-"
      },
      "source": [
        "tb_files = []\n",
        "tb_dir = \"/content/TB_Chest_Radiography_Database/Tuberculosis\"\n",
        "dir1 = os.path.join(tb_dir,\"*.png\")\n",
        "tb_files = glob.glob(dir1)"
      ],
      "execution_count": null,
      "outputs": []
    },
    {
      "cell_type": "code",
      "metadata": {
        "id": "E4rh2k4wU4Ch"
      },
      "source": [
        "print(len(normal_files),len(tb_files))"
      ],
      "execution_count": null,
      "outputs": []
    },
    {
      "cell_type": "code",
      "metadata": {
        "id": "cmMLnNuSU4FJ"
      },
      "source": [
        "normal_files.sort()\n",
        "tb_files.sort()"
      ],
      "execution_count": null,
      "outputs": []
    },
    {
      "cell_type": "code",
      "metadata": {
        "id": "80NJsLywU4KA"
      },
      "source": [
        "normal_files[:10]"
      ],
      "execution_count": null,
      "outputs": []
    },
    {
      "cell_type": "code",
      "metadata": {
        "id": "oCrRZFzBU4Nc"
      },
      "source": [
        "\n",
        "tb_files[:10]"
      ],
      "execution_count": null,
      "outputs": []
    },
    {
      "cell_type": "code",
      "metadata": {
        "id": "u959NYpRqXVC"
      },
      "source": [
        "2800 * 0.2"
      ],
      "execution_count": null,
      "outputs": []
    },
    {
      "cell_type": "code",
      "metadata": {
        "id": "qj3gLZ7PnBsg"
      },
      "source": [
        "\n",
        "3500-1260"
      ],
      "execution_count": null,
      "outputs": []
    },
    {
      "cell_type": "code",
      "metadata": {
        "id": "JGgMdtdVnFyQ"
      },
      "source": [
        "1260-700"
      ],
      "execution_count": null,
      "outputs": []
    },
    {
      "cell_type": "markdown",
      "metadata": {
        "id": "G64BWGXHx5dy"
      },
      "source": [
        "#FOLD 5"
      ]
    },
    {
      "cell_type": "code",
      "metadata": {
        "id": "ou1eWNo351O2"
      },
      "source": [
        "\n",
        "# normal_files_test = normal_files[:700]\n",
        "# normal_files_train = normal_files[1260:3500]\n",
        "# normal_val = normal_files[700:1260]\n",
        "# tb_files_test = tb_files[:700]\n",
        "# tb_files_train = tb_files[1260:3500]\n",
        "# tb_val = tb_files[700:1260]\n"
      ],
      "execution_count": null,
      "outputs": []
    },
    {
      "cell_type": "markdown",
      "metadata": {
        "id": "5ETKVnXCx8lf"
      },
      "source": [
        "#FOLD 4"
      ]
    },
    {
      "cell_type": "code",
      "metadata": {
        "id": "-_o04Qhox77W"
      },
      "source": [
        "normal_files_test = normal_files[700:1400]\n",
        "normal_files_train = normal_files[:700]\n",
        "normal_val = normal_files[1400:1960]\n",
        "normal_files_train.extend(normal_files[1960:3500])\n",
        "tb_files_test = tb_files[700:1400]\n",
        "tb_files_train = tb_files[:700]\n",
        "tb_val = tb_files[1400:1960]\n",
        "tb_files_train.extend(tb_files[1960:3500])"
      ],
      "execution_count": null,
      "outputs": []
    },
    {
      "cell_type": "code",
      "metadata": {
        "id": "ZB2xVzhR62CO"
      },
      "source": [
        "1400-560"
      ],
      "execution_count": null,
      "outputs": []
    },
    {
      "cell_type": "markdown",
      "metadata": {
        "id": "i_SbIy-Jz0Z3"
      },
      "source": [
        "#FOLD 3"
      ]
    },
    {
      "cell_type": "code",
      "metadata": {
        "id": "z-RqoNNzU4O2"
      },
      "source": [
        "# normal_files_test = normal_files[1400:2100]\n",
        "# normal_files_train = normal_files[:840]\n",
        "# normal_val = normal_files[840:1400]\n",
        "# normal_files_train.extend(normal_files[2100:3500])\n",
        "# tb_files_test = tb_files[1400:2100]\n",
        "# tb_files_train = tb_files[:840]\n",
        "# tb_val = tb_files[840:1400]\n",
        "# tb_files_train.extend(tb_files[2100:3500])"
      ],
      "execution_count": null,
      "outputs": []
    },
    {
      "cell_type": "markdown",
      "metadata": {
        "id": "UTXKWrXez5uU"
      },
      "source": [
        "#FOLD 2"
      ]
    },
    {
      "cell_type": "code",
      "metadata": {
        "id": "f88q4ZzEz73v"
      },
      "source": [
        "# normal_files_test = normal_files[2100:2800]\n",
        "# normal_files_train = normal_files[:1540]\n",
        "# normal_val = normal_files[1540:2100]\n",
        "# normal_files_train.extend(normal_files[2800:3500])\n",
        "# tb_files_test = tb_files[2100:2800]\n",
        "# tb_files_train = tb_files[:2100]\n",
        "# tb_val = tb_files[1540:2100]\n",
        "# tb_files_train.extend(tb_files[2800:3500])"
      ],
      "execution_count": null,
      "outputs": []
    },
    {
      "cell_type": "code",
      "metadata": {
        "id": "fTLNePllBRRK"
      },
      "source": [
        "# 2800-560"
      ],
      "execution_count": null,
      "outputs": []
    },
    {
      "cell_type": "markdown",
      "metadata": {
        "id": "hPsr7ZM70I3a"
      },
      "source": [
        "#FOLD 1\n"
      ]
    },
    {
      "cell_type": "code",
      "metadata": {
        "id": "LPPg9tw50H9R"
      },
      "source": [
        "# normal_files_test = normal_files[2800:3500]\n",
        "# normal_files_train = normal_files[560:2800]\n",
        "# normal_val = normal_files[0:560]\n",
        "# tb_files_test = tb_files[2800:3500]\n",
        "# tb_files_train = tb_files[560:2800]\n",
        "# tb_val = tb_files[0:560]\n"
      ],
      "execution_count": null,
      "outputs": []
    },
    {
      "cell_type": "code",
      "metadata": {
        "id": "KCBO4zyIz8ef"
      },
      "source": [
        ""
      ],
      "execution_count": null,
      "outputs": []
    },
    {
      "cell_type": "code",
      "metadata": {
        "id": "8pSpBQCmVPzf"
      },
      "source": [
        "tb_files_test[:10]"
      ],
      "execution_count": null,
      "outputs": []
    },
    {
      "cell_type": "code",
      "metadata": {
        "id": "P6lus3YXVP2X"
      },
      "source": [
        "len(normal_files_train)"
      ],
      "execution_count": null,
      "outputs": []
    },
    {
      "cell_type": "code",
      "metadata": {
        "id": "5puXUfwxVP5c"
      },
      "source": [
        "\n",
        "train_dic = {}\n",
        "test_dic = {}\n",
        "val_dic = {}\n",
        "for i in range(len(normal_files_train)):\n",
        "    train_dic[normal_files_train[i]] = [0,1]\n",
        "for i in range(len(tb_files_train)):\n",
        "    train_dic[tb_files_train[i]] = [1,0]\n",
        "\n",
        "for i in range(len(normal_val)):\n",
        "    val_dic[normal_val[i]] = [0,1]\n",
        "for i in range(len(tb_val)):\n",
        "    val_dic[tb_val[i]] = [1,0]       \n",
        "    \n",
        "for i in range(len(normal_files_test)):\n",
        "    test_dic[normal_files_test[i]] = [0,1]\n",
        "for i in range(len(tb_files_test)):\n",
        "    test_dic[tb_files_test[i]] = [1,0]"
      ],
      "execution_count": null,
      "outputs": []
    },
    {
      "cell_type": "code",
      "metadata": {
        "id": "lBIR0yt2VP7w"
      },
      "source": [
        "\n",
        "train_dic"
      ],
      "execution_count": null,
      "outputs": []
    },
    {
      "cell_type": "code",
      "metadata": {
        "id": "Bek2549jVQAS"
      },
      "source": [
        "import random\n",
        "l_train = list(train_dic.items())\n",
        "random.Random(4).shuffle(l_train)\n",
        "l_train"
      ],
      "execution_count": null,
      "outputs": []
    },
    {
      "cell_type": "code",
      "metadata": {
        "id": "xTZyON0-y1fa"
      },
      "source": [
        "import random\n",
        "l_val = list(val_dic.items())\n",
        "random.Random(4).shuffle(l_val)\n",
        "l_val"
      ],
      "execution_count": null,
      "outputs": []
    },
    {
      "cell_type": "code",
      "metadata": {
        "id": "dZNQfv2cVQDL"
      },
      "source": [
        "import random\n",
        "l_test = list(test_dic.items())\n",
        "random.Random(4).shuffle(l_test)\n",
        "l_test"
      ],
      "execution_count": null,
      "outputs": []
    },
    {
      "cell_type": "code",
      "metadata": {
        "id": "PUUsXE7tVQEv"
      },
      "source": [
        "\n",
        "print(len(l_train),len(l_test),len(l_val))"
      ],
      "execution_count": null,
      "outputs": []
    },
    {
      "cell_type": "code",
      "metadata": {
        "id": "iR37uOiJVQGr"
      },
      "source": [
        "train_data = []\n",
        "train_labels = []\n",
        "\n",
        "for i in range(len(l_train)):\n",
        "    file_name,label = l_train[i]\n",
        "    img = cv2.imread(file_name)\n",
        "    try:\n",
        "        img = cv2.resize(img,(224,224),interpolation = cv2.INTER_CUBIC)\n",
        "        img = img.astype('float32')/255.0\n",
        "        train_data.append(img)\n",
        "        train_labels.append(label)\n",
        "\n",
        "    except:\n",
        "        print(i,file_name)\n",
        "        print(\"Not possible\")        \n",
        "\n",
        "        \n",
        "train_data = np.array(train_data)\n",
        "print(train_data.shape)\n",
        "\n",
        "train_labels = np.array(train_labels)\n",
        "print(train_labels.shape)    \n",
        " \n",
        "print('^_^-total data finished-^_^')  "
      ],
      "execution_count": null,
      "outputs": []
    },
    {
      "cell_type": "code",
      "metadata": {
        "id": "qV37XhK5qB4Q"
      },
      "source": [
        "val_data = []\n",
        "val_labels = []\n",
        "\n",
        "for i in range(len(l_val)):\n",
        "    file_name,label = l_val[i]\n",
        "    img = cv2.imread(file_name)\n",
        "    try:\n",
        "        img = cv2.resize(img,(224,224),interpolation = cv2.INTER_CUBIC)\n",
        "        img = img.astype('float32')/255.0\n",
        "        val_data.append(img)\n",
        "        val_labels.append(label)\n",
        "\n",
        "    except:\n",
        "        print(i,file_name)\n",
        "        print(\"Not possible\")        \n",
        "\n",
        "        \n",
        "val_data = np.array(val_data)\n",
        "print(val_data.shape)\n",
        "\n",
        "val_labels = np.array(val_labels)\n",
        "print(val_labels.shape)    \n",
        " \n",
        "print('^_^-total data finished-^_^')  "
      ],
      "execution_count": null,
      "outputs": []
    },
    {
      "cell_type": "code",
      "metadata": {
        "id": "zSAtfZT5VQI3"
      },
      "source": [
        "\n",
        "test_data = []\n",
        "test_labels = []\n",
        "\n",
        "for i in range(len(l_test)):\n",
        "    file_name,label = l_test[i]\n",
        "    img = cv2.imread(file_name)\n",
        "    try:\n",
        "        img = cv2.resize(img,(224,224),interpolation = cv2.INTER_CUBIC)\n",
        "        img = img.astype('float32')/255.0\n",
        "        test_data.append(img)\n",
        "        test_labels.append(label)\n",
        "\n",
        "    except:\n",
        "        print(i,file_name)\n",
        "        print(\"Not possible\")   \n",
        "        \n",
        "test_data = np.array(test_data)\n",
        "print(test_data.shape)        \n",
        "test_labels = np.array(test_labels)\n",
        "print(test_labels.shape)   "
      ],
      "execution_count": null,
      "outputs": []
    },
    {
      "cell_type": "code",
      "metadata": {
        "id": "GW2qjQnjVQMB"
      },
      "source": [
        "\n",
        "in_model = tf.keras.applications.VGG19(input_shape=(224,224,3),\n",
        "                                               include_top=False,\n",
        "                                               weights='imagenet',classes = 2)\n",
        "\n",
        "inputs = tf.keras.Input(shape=(224,224,3))\n",
        "#inputs2 = tf.keras.Input(shape=(224,224)\n",
        "#x=tf.keras.layers.LSTM(224,input_shape=X_train.shape[1:], return_sequences=True)(inputs)\n",
        "x1 = in_model(inputs)\n",
        "#x1 = Conv2D(512,(1,1),activation = 'relu')(x1)\n",
        "print(x1.shape)\n",
        "\n",
        "\n",
        "flat = Flatten()(x1)\n",
        "dense_1 = Dense(4096,activation = 'relu')(flat)\n",
        "#dense_1 = Dropout(0.5)(dense_1)\n",
        "dense_2 = Dense(4096,activation = 'relu')(dense_1)\n",
        "#dense_2 = Dropout(0.5)(dense_2)\n",
        "prediction = Dense(2,activation = 'softmax')(dense_2)\n",
        "\n",
        "in_pred45 = Model(inputs = inputs,outputs = prediction)"
      ],
      "execution_count": null,
      "outputs": []
    },
    {
      "cell_type": "code",
      "metadata": {
        "id": "lmEmNLH_8YM1"
      },
      "source": [
        "in_model2 = tf.keras.applications.DenseNet121(input_shape=(224,224,3),\n",
        "                                               include_top=False,\n",
        "                                               weights='imagenet',classes = 2)\n",
        "\n",
        "inputs = tf.keras.Input(shape=(224,224,3))\n",
        "#inputs2 = tf.keras.Input(shape=(224,224)\n",
        "#x=tf.keras.layers.LSTM(224,input_shape=X_train.shape[1:], return_sequences=True)(inputs)\n",
        "x1 = in_model2(inputs)\n",
        "#x1 = Conv2D(512,(1,1),activation = 'relu')(x1)\n",
        "print(x1.shape)\n",
        "\n",
        "\n",
        "flat = Flatten()(x1)\n",
        "dense_1 = Dense(4096,activation = 'relu')(flat)\n",
        "#dense_1 = Dropout(0.5)(dense_1)\n",
        "dense_2 = Dense(4096,activation = 'relu')(dense_1)\n",
        "#dense_2 = Dropout(0.5)(dense_2)\n",
        "prediction = Dense(2,activation = 'softmax')(dense_2)\n",
        "\n",
        "in_pred = Model(inputs = inputs,outputs = prediction)"
      ],
      "execution_count": null,
      "outputs": []
    },
    {
      "cell_type": "code",
      "metadata": {
        "id": "5Bj-L3NuBOpf"
      },
      "source": [
        "in_model2 = tf.keras.applications.ResNet50(input_shape=(224,224,3),\n",
        "                                               include_top=False,\n",
        "                                               weights='imagenet',classes = 2)\n",
        "\n",
        "inputs = tf.keras.Input(shape=(224,224,3))\n",
        "#inputs2 = tf.keras.Input(shape=(224,224)\n",
        "#x=tf.keras.layers.LSTM(224,input_shape=X_train.shape[1:], return_sequences=True)(inputs)\n",
        "x1 = in_model2(inputs)\n",
        "#x1 = Conv2D(512,(1,1),activation = 'relu')(x1)\n",
        "print(x1.shape)\n",
        "\n",
        "\n",
        "flat = Flatten()(x1)\n",
        "dense_1 = Dense(4096,activation = 'relu')(flat)\n",
        "#dense_1 = Dropout(0.5)(dense_1)\n",
        "dense_2 = Dense(4096,activation = 'relu')(dense_1)\n",
        "#dense_2 = Dropout(0.5)(dense_2)\n",
        "prediction = Dense(2,activation = 'softmax')(dense_2)\n",
        "\n",
        "in_pred4 = Model(inputs = inputs,outputs = prediction)"
      ],
      "execution_count": null,
      "outputs": []
    },
    {
      "cell_type": "code",
      "metadata": {
        "id": "poYvXcN6eq3n"
      },
      "source": [
        "in_pred4.compile(optimizer = tf.keras.optimizers.SGD(learning_rate=0.0002), loss=tf.keras.losses.CategoricalCrossentropy(from_logits = False) , metrics=['accuracy'])\n",
        "history1 = in_pred4.fit(train_data,train_labels,batch_size = 8,epochs = 1,validation_data = (val_data,val_labels))"
      ],
      "execution_count": null,
      "outputs": []
    },
    {
      "cell_type": "code",
      "metadata": {
        "id": "c64d8RBN8ZL_"
      },
      "source": [
        "in_pred.compile(optimizer = tf.keras.optimizers.SGD(learning_rate=0.0002), loss=tf.keras.losses.CategoricalCrossentropy(from_logits = False) , metrics=['accuracy'])\n",
        "history2 = in_pred.fit(train_data,train_labels,batch_size = 8,epochs = 1,validation_data = (val_data,val_labels))"
      ],
      "execution_count": null,
      "outputs": []
    },
    {
      "cell_type": "code",
      "metadata": {
        "id": "Vlq8_WQNVQPN"
      },
      "source": [
        "in_pred45.compile(optimizer = tf.keras.optimizers.SGD(learning_rate=0.0002), loss=tf.keras.losses.CategoricalCrossentropy(from_logits = False) , metrics=['accuracy'])\n",
        "history3 = in_pred45.fit(train_data,train_labels,batch_size = 8,epochs = 1,validation_data = (val_data,val_labels))"
      ],
      "execution_count": null,
      "outputs": []
    },
    {
      "cell_type": "code",
      "metadata": {
        "id": "sajSOE-jpuLA"
      },
      "source": [
        "np.save('my_history1',history1.history)"
      ],
      "execution_count": null,
      "outputs": []
    },
    {
      "cell_type": "code",
      "metadata": {
        "id": "wL_0eINsJ9r_"
      },
      "source": [
        "in_pred45.save_weights(\"VGG19_weights.h5\")"
      ],
      "execution_count": null,
      "outputs": []
    },
    {
      "cell_type": "code",
      "metadata": {
        "id": "sQTWgXRiTeRT"
      },
      "source": [
        "in_pred4.save_weights(\"resnet50_weights.h5\")"
      ],
      "execution_count": null,
      "outputs": []
    },
    {
      "cell_type": "code",
      "metadata": {
        "id": "E6J0YxaBVzDN"
      },
      "source": [
        "in_pred 0.33272948"
      ],
      "execution_count": null,
      "outputs": []
    },
    {
      "cell_type": "code",
      "metadata": {
        "id": "cdzx_1q8VQRb"
      },
      "source": [
        "in_pred45.evaluate(test_data,test_labels)"
      ],
      "execution_count": null,
      "outputs": []
    },
    {
      "cell_type": "code",
      "metadata": {
        "id": "uuzzMJA_MpzX"
      },
      "source": [
        "in_pred45.evaluate(val_data,val_labels)"
      ],
      "execution_count": null,
      "outputs": []
    },
    {
      "cell_type": "code",
      "metadata": {
        "id": "BTK9LQ7PVQVH"
      },
      "source": [
        "in_pred4.evaluate(test_data,test_labels)"
      ],
      "execution_count": null,
      "outputs": []
    },
    {
      "cell_type": "code",
      "metadata": {
        "id": "ta1ae5nbMuRu"
      },
      "source": [
        "in_pred4.evaluate(val_data,val_labels)"
      ],
      "execution_count": null,
      "outputs": []
    },
    {
      "cell_type": "code",
      "metadata": {
        "id": "WPQ5XwduVQY-"
      },
      "source": [
        "in_pred.evaluate(test_data,test_labels)"
      ],
      "execution_count": null,
      "outputs": []
    },
    {
      "cell_type": "code",
      "metadata": {
        "id": "uithNx-eWD5i"
      },
      "source": [
        "in_pred.evaluate(val_data,val_labels)"
      ],
      "execution_count": null,
      "outputs": []
    },
    {
      "cell_type": "code",
      "metadata": {
        "id": "K1qsqCDf1CWG"
      },
      "source": [
        "in_pred.save_weights(\"Densenet121_weights.h5\")"
      ],
      "execution_count": null,
      "outputs": []
    },
    {
      "cell_type": "code",
      "metadata": {
        "id": "hq8zitmbq304"
      },
      "source": [
        "inpred = 0.33172"
      ],
      "execution_count": null,
      "outputs": []
    },
    {
      "cell_type": "code",
      "metadata": {
        "id": "hQLfcUH4VxZB"
      },
      "source": [
        "inpred4 =  0.33354"
      ],
      "execution_count": null,
      "outputs": []
    },
    {
      "cell_type": "code",
      "metadata": {
        "id": "ysTR6FpCVy-I"
      },
      "source": [
        "inpred45  = 0.33473"
      ],
      "execution_count": null,
      "outputs": []
    },
    {
      "cell_type": "code",
      "metadata": {
        "id": "cmdfDGi2W54h"
      },
      "source": [
        "    fuzzymeasure = np.array([0.33373, 0.33313, 0.33313])\n",
        "    Ypred_fuzzy = np.zeros(shape = mobilenet2_test.shape, dtype = float)\n",
        "    for sample in range(0,mobilenet2_test.shape[0]):\n",
        "        for classes in range(0,2):\n",
        "            scores = np.array([mobilenet2_test[sample][classes],resnet2_test[sample][classes],densenet2_test[sample][classes]])\n",
        "            fuzzy = sugeno_fuzzy_integral_generalized(scores,fuzzymeasure,axis = 0) \n",
        "            Ypred_fuzzy[sample][classes] = fuzzy\n",
        "    ypred_fuzzy = np.argmax(Ypred_fuzzy, axis=1)\n",
        "    pred_label = []\n",
        "    for i in ypred_fuzzy:\n",
        "      label = np.zeros((2))\n",
        "      label[i] = label[i]+1\n",
        "      pred_label.append(label)\n",
        "    pred_label = np.array(pred_label)\n",
        "\n",
        "    acc = accuracy_score(test_labels,pred_label)\n",
        "    print(acc)"
      ],
      "execution_count": null,
      "outputs": []
    },
    {
      "cell_type": "code",
      "metadata": {
        "id": "PCGSgPTjU4Uf"
      },
      "source": [
        "in_pred.load_weights(\"/gdrive/MyDrive/densenet121_new_weights (1).h5\")\n",
        "in_pred4.load_weights(\"/gdrive/MyDrive/Resnet50_new_weights.h5\")\n",
        "in_pred45.load_weights(\"/gdrive/MyDrive/xception_new_weights.h5\")"
      ],
      "execution_count": null,
      "outputs": []
    },
    {
      "cell_type": "code",
      "metadata": {
        "id": "FPEVgwYWU4Yr"
      },
      "source": [
        "in_pred.load_weights(\"Densenet121_weights.h5\")\n",
        "in_pred4.load_weights(\"resnet50_weights.h5\")\n",
        "in_pred45.load_weights(\"VGG19_weights.h5\")"
      ],
      "execution_count": null,
      "outputs": []
    },
    {
      "cell_type": "code",
      "metadata": {
        "id": "2O_1jjiOA3w9"
      },
      "source": [
        "mobilenet_test = in_pred.predict(val_data)\n",
        "resnet_test = in_pred4.predict(val_data)\n",
        "densenet_test = in_pred45.predict(val_data)"
      ],
      "execution_count": null,
      "outputs": []
    },
    {
      "cell_type": "code",
      "metadata": {
        "id": "QrP-ysXXU4b4"
      },
      "source": [
        "mobilenet2_test = in_pred.predict(test_data)\n",
        "resnet2_test = in_pred4.predict(test_data)\n",
        "densenet2_test = in_pred45.predict(test_data)"
      ],
      "execution_count": null,
      "outputs": []
    },
    {
      "cell_type": "code",
      "metadata": {
        "id": "tvFUV2i6WEm8"
      },
      "source": [
        "mobilenet2_test.shape"
      ],
      "execution_count": null,
      "outputs": []
    },
    {
      "cell_type": "code",
      "metadata": {
        "id": "p2RKiUZOV79I"
      },
      "source": [
        "in_pred.compile(optimizer = tf.keras.optimizers.SGD(learning_rate=0.0002), loss=tf.keras.losses.CategoricalCrossentropy(from_logits = False) , metrics=['accuracy'])\n",
        "in_pred4.compile(optimizer = tf.keras.optimizers.SGD(learning_rate=0.0002), loss=tf.keras.losses.CategoricalCrossentropy(from_logits = False) , metrics=['accuracy'])\n",
        "in_pred45.compile(optimizer = tf.keras.optimizers.SGD(learning_rate=0.0002), loss=tf.keras.losses.CategoricalCrossentropy(from_logits = False) , metrics=['accuracy'])"
      ],
      "execution_count": null,
      "outputs": []
    },
    {
      "cell_type": "code",
      "metadata": {
        "id": "_ICoaJ9PU4fJ"
      },
      "source": [
        "!pip install mealpy==v1.0.4"
      ],
      "execution_count": null,
      "outputs": []
    },
    {
      "cell_type": "code",
      "metadata": {
        "id": "beK9On5z4iVi"
      },
      "source": [
        "from mealpy.swarm_based.GWO import BaseGWO\n",
        "from sklearn.metrics import accuracy_score\n",
        "from sympy.solvers import solve\n",
        "from sympy import Symbol\n",
        "\n",
        "def objective(solution = None):\n",
        "    solution = solution.reshape((-1))\n",
        "    fuzzymeasures = np.array([solution[0],solution[1],solution[2]])\n",
        "    #fuzzymeasures = np.array([0.09,0.08,0.07])\n",
        "    l = Symbol('l', real = True)\n",
        "    lam = solve(  ( 1 + l* fuzzymeasures[0]) * ( 1 + l* fuzzymeasures[1]) *( 1 + l* fuzzymeasures[2]) - (l+1), l )\n",
        "    if len(lam) < 3:\n",
        "      lam = np.asarray(lam)\n",
        "    else:\n",
        "      lam = np.asarray(lam[1])\n",
        "    Ypred_fuzzy = np.zeros(shape = mobilenet_test.shape, dtype = float)\n",
        "    for sample in range(0,mobilenet_test.shape[0]):\n",
        "        for classes in range(0,2):\n",
        "            scores = np.array([mobilenet_test[sample][classes],resnet_test[sample][classes],densenet_test[sample][classes]])\n",
        "            #print(scores.shape)\n",
        "            permutedidx = np.flip(np.argsort(scores))\n",
        "            #print(permutedidx.shape)\n",
        "            scoreslambda = scores[permutedidx]\n",
        "            #print(scoreslambda.shape)\n",
        "            fmlambda = fuzzymeasures[permutedidx]\n",
        "\n",
        "            ge_prev = fmlambda[0]\n",
        "            fuzzyprediction = scoreslambda[0] * fmlambda[0]\n",
        "\n",
        "            for i in range(1,2):\n",
        "                ge_curr = ge_prev + fmlambda[i] + lam * fmlambda[i] * ge_prev\n",
        "                fuzzyprediction = fuzzyprediction + scoreslambda[i] *(ge_curr - ge_prev)\n",
        "                ge_prev = ge_curr\n",
        "\n",
        "            fuzzyprediction = fuzzyprediction + scoreslambda[2] * ( 1 - ge_prev)\n",
        "            Ypred_fuzzy[sample][classes] = fuzzyprediction\n",
        "    ypred_fuzzy = np.argmax(Ypred_fuzzy, axis=1)\n",
        "    pred_label = []\n",
        "    for i in ypred_fuzzy:\n",
        "      label = np.zeros((2))\n",
        "      label[i] = label[i]+1\n",
        "      pred_label.append(label)\n",
        "    pred_label = np.array(pred_label)\n",
        "\n",
        "    acc = accuracy_score(val_labels,pred_label)\n",
        "    return -acc\n",
        "\n",
        "obj_func = objective\n",
        "\n",
        "lb = [0]\n",
        "ub = [1]\n",
        "problem_size = 3\n",
        "batch_size = 25\n",
        "verbose = True\n",
        "epoch = 30\n",
        "pop_size = 100\n",
        "\n",
        "pc = 0.95\n",
        "pm = 0.025\n",
        "\n",
        "md1 = BaseGWO(obj_func, lb, ub, problem_size, batch_size, verbose, epoch, pop_size)\n",
        "best_pos1, best_fit1, list_loss1 = md1.train()\n",
        "print(md1.solution[0])\n",
        "print(md1.solution[1])"
      ],
      "execution_count": null,
      "outputs": []
    },
    {
      "cell_type": "code",
      "metadata": {
        "id": "OeUkqHwzNxm7"
      },
      "source": [
        "    fuzzymeasures = np.array([1.11680804,0.40229502,1.0872415 ])\n",
        "    #fuzzymeasures = np.array([0.09,0.08,0.07])\n",
        "    l = Symbol('l', real = True)\n",
        "    lam = solve(  ( 1 + l* fuzzymeasures[0]) * ( 1 + l* fuzzymeasures[1]) *( 1 + l* fuzzymeasures[2]) - (l+1), l )\n",
        "    if len(lam) < 3:\n",
        "      lam = np.asarray(lam)\n",
        "    else:\n",
        "      lam = np.asarray(lam[1])\n",
        "    Ypred_fuzzy = np.zeros(shape = mobilenet2_test.shape, dtype = float)\n",
        "    for sample in range(0,mobilenet2_test.shape[0]):\n",
        "        for classes in range(0,2):\n",
        "            scores = np.array([mobilenet2_test[sample][classes],resnet2_test[sample][classes],densenet2_test[sample][classes]])\n",
        "            #print(scores.shape)\n",
        "            permutedidx = np.flip(np.argsort(scores))\n",
        "            #print(permutedidx.shape)\n",
        "            scoreslambda = scores[permutedidx]\n",
        "            #print(scoreslambda.shape)\n",
        "            fmlambda = fuzzymeasures[permutedidx]\n",
        "\n",
        "            ge_prev = fmlambda[0]\n",
        "            fuzzyprediction = scoreslambda[0] * fmlambda[0]\n",
        "\n",
        "            for i in range(1,2):\n",
        "                ge_curr = ge_prev + fmlambda[i] + lam * fmlambda[i] * ge_prev\n",
        "                fuzzyprediction = fuzzyprediction + scoreslambda[i] *(ge_curr - ge_prev)\n",
        "                ge_prev = ge_curr\n",
        "\n",
        "            fuzzyprediction = fuzzyprediction + scoreslambda[2] * ( 1 - ge_prev)\n",
        "            Ypred_fuzzy[sample][classes] = fuzzyprediction\n",
        "    ypred_fuzzy = np.argmax(Ypred_fuzzy, axis=1)\n",
        "    pred_label = []\n",
        "    for i in ypred_fuzzy:\n",
        "      label = np.zeros((2))\n",
        "      label[i] = label[i]+1\n",
        "      pred_label.append(label)\n",
        "    pred_label = np.array(pred_label)\n",
        "\n",
        "    acc = accuracy_score(test_labels,pred_label)"
      ],
      "execution_count": null,
      "outputs": []
    },
    {
      "cell_type": "markdown",
      "metadata": {
        "id": "S_csEl7UxX_9"
      },
      "source": [
        "#Sugeno Integral"
      ]
    },
    {
      "cell_type": "code",
      "metadata": {
        "id": "OoIA2VZbhQSe"
      },
      "source": [
        "from mealpy.swarm_based.WOA import BaseWOA\n",
        "from sklearn.metrics import accuracy_score\n",
        "\n",
        "\n",
        "\n",
        "def objective(solution=None):\n",
        "    fuzzymeasures = np.array([solution[0],solution[1],solution[2]])\n",
        "    l = Symbol('l', real = True)\n",
        "    lam = solve(  ( 1 + l* fuzzymeasures[0]) * ( 1 + l* fuzzymeasures[1]) *( 1 + l* fuzzymeasures[2]) - (l+1), l )\n",
        "    if len(lam) < 3:\n",
        "      lam = np.asarray(lam)\n",
        "    else:\n",
        "      lam = np.asarray(lam[1])\n",
        "    Ypred_fuzzy = np.zeros(shape = mobilenet_test.shape, dtype = float)\n",
        "    for sample in range(0,mobilenet_test.shape[0]):\n",
        "        for classes in range(0,2):\n",
        "            scores = np.array([mobilenet_test[sample][classes],resnet_test[sample][classes],densenet_test[sample][classes]])\n",
        "            #print(scores.shape)\n",
        "            permutedidx = np.flip(np.argsort(scores))\n",
        "            #print(permutedidx.shape)\n",
        "            scoreslambda = scores[permutedidx]\n",
        "            #print(scoreslambda.shape)\n",
        "            fmlambda = fuzzymeasures[permutedidx]\n",
        "\n",
        "            ge_prev = fmlambda[0]\n",
        "            fuzzyprediction = np.min(scoreslambda[0], fmlambda[0])\n",
        "\n",
        "            for i in range(1,3):\n",
        "                ge_curr = ge_prev + fmlambda[i] + lam * fmlambda[i] * ge_prev\n",
        "                fuzzyprediction = np.max(fuzzyprediction,np.min(scoreslambda[i],ge_curr))\n",
        "                ge_prev = ge_curr\n",
        "\n",
        "            Ypred_fuzzy[sample][classes] = fuzzyprediction\n",
        "    ypred_fuzzy = np.argmax(Ypred_fuzzy, axis=1)\n",
        "    pred_label = []\n",
        "    for i in ypred_fuzzy:\n",
        "      label = np.zeros((2))\n",
        "      label[i] = label[i]+1\n",
        "      pred_label.append(label)\n",
        "    pred_label = np.array(pred_label)\n",
        "    acc = accuracy_score(val_labels,pred_label)\n",
        "    #print(acc)\n",
        "    return -acc\n",
        "obj_func = objective\n",
        "\n",
        "\n",
        "lb = [0]\n",
        "ub = [1]\n",
        "problem_size = 3\n",
        "batch_size = 32\n",
        "verbose = True\n",
        "epoch = 30\n",
        "pop_size = 50\n",
        "\n",
        "pc = 0.95\n",
        "pm = 0.025\n",
        "\n",
        "md2 = BaseWOA(obj_func, lb, ub, problem_size, batch_size, verbose, epoch, pop_size)\n",
        "best_pos1, best_fit1, list_loss1 = md2.train()\n",
        "print(md2.solution[0])\n",
        "print(md2.solution[1])"
      ],
      "execution_count": null,
      "outputs": []
    },
    {
      "cell_type": "code",
      "metadata": {
        "id": "w8SAQlXxvmYv"
      },
      "source": [
        "from mealpy.swarm_based.GWO import BaseGWO\n",
        "from sklearn.metrics import accuracy_score\n",
        "from sympy.solvers import solve\n",
        "from sympy import Symbol\n",
        "\n",
        "def objective(solution = None):\n",
        "    solution = solution.reshape((-1))\n",
        "    fuzzymeasures = np.array([solution[0],solution[1],solution[2]])\n",
        "    #fuzzymeasures = np.array([0.09,0.08,0.07])\n",
        "    l = Symbol('l', real = True)\n",
        "    lam = solve(  ( 1 + l* fuzzymeasures[0]) * ( 1 + l* fuzzymeasures[1]) *( 1 + l* fuzzymeasures[2]) - (l+1), l )\n",
        "    if len(lam) < 3:\n",
        "      lam = np.asarray(lam)\n",
        "    else:\n",
        "      lam = np.asarray(lam[1])\n",
        "    Ypred_fuzzy = np.zeros(shape = mobilenet_test.shape, dtype = float)\n",
        "    for sample in range(0,mobilenet_test.shape[0]):\n",
        "        for classes in range(0,2):\n",
        "            scores = np.array([mobilenet_test[sample][classes],resnet_test[sample][classes],densenet_test[sample][classes]])\n",
        "            #print(scores.shape)\n",
        "            permutedidx = np.flip(np.argsort(scores))\n",
        "            #print(permutedidx.shape)\n",
        "            scoreslambda = scores[permutedidx]\n",
        "            #print(scoreslambda.shape)\n",
        "            fmlambda = fuzzymeasures[permutedidx]\n",
        "\n",
        "            ge_prev = fmlambda[0]\n",
        "            fuzzyprediction = np.min(scoreslambda[0], fmlambda[0])\n",
        "\n",
        "            for i in range(1,3):\n",
        "                ge_curr = ge_prev + fmlambda[i] + lam * fmlambda[i] * ge_prev\n",
        "                fuzzyprediction = np.max(fuzzyprediction,np.min(scoreslambda[i],ge_curr))\n",
        "                ge_prev = ge_curr\n",
        "\n",
        "            Ypred_fuzzy[sample][classes] = fuzzyprediction\n",
        "    ypred_fuzzy = np.argmax(Ypred_fuzzy, axis=1)\n",
        "    pred_label = []\n",
        "    for i in ypred_fuzzy:\n",
        "      label = np.zeros((2))\n",
        "      label[i] = label[i]+1\n",
        "      pred_label.append(label)\n",
        "    pred_label = np.array(pred_label)\n",
        "\n",
        "    acc = accuracy_score(val_labels,pred_label)\n",
        "    return -acc\n",
        "\n",
        "obj_func = objective\n",
        "\n",
        "lb = [0]\n",
        "ub = [1]\n",
        "problem_size = 3\n",
        "batch_size = 25\n",
        "verbose = True\n",
        "epoch = 30\n",
        "pop_size = 100\n",
        "\n",
        "pc = 0.95\n",
        "pm = 0.025\n",
        "\n",
        "md1 = BaseGWO(obj_func, lb, ub, problem_size, batch_size, verbose, epoch, pop_size)\n",
        "best_pos1, best_fit1, list_loss1 = md1.train()\n",
        "print(md1.solution[0])\n",
        "print(md1.solution[1])"
      ],
      "execution_count": null,
      "outputs": []
    },
    {
      "cell_type": "code",
      "metadata": {
        "id": "JJEtKTwReXEj"
      },
      "source": [
        "    fuzzymeasures = np.array([0.40918803,0.27254635,0.97002079])\n",
        "    Ypred_fuzzy = np.zeros(shape = mobilenet2_test.shape, dtype = float)\n",
        "    for sample in range(0,mobilenet_test.shape[0]):\n",
        "        for classes in range(0,2):\n",
        "            scores = np.array([mobilenet_test[sample][classes],resnet_test[sample][classes],densenet_test[sample][classes]])\n",
        "            #print(scores.shape)\n",
        "            permutedidx = np.flip(np.argsort(scores))\n",
        "            #print(permutedidx.shape)\n",
        "            scoreslambda = scores[permutedidx]\n",
        "            #print(scoreslambda.shape)\n",
        "            fmlambda = fuzzymeasures[permutedidx]\n",
        "\n",
        "            ge_prev = fmlambda[0]\n",
        "            fuzzyprediction = np.min(scoreslambda[0], fmlambda[0])\n",
        "\n",
        "            for i in range(1,3):\n",
        "                ge_curr = ge_prev + fmlambda[i] + lam * fmlambda[i] * ge_prev\n",
        "                fuzzyprediction = np.max(fuzzyprediction,np.min(scoreslambda[i],ge_curr))\n",
        "                ge_prev = ge_curr\n",
        "\n",
        "            Ypred_fuzzy[sample][classes] = fuzzyprediction\n",
        "    ypred_fuzzy = np.argmax(Ypred_fuzzy, axis=1)\n",
        "    pred_label = []\n",
        "    for i in ypred_fuzzy:\n",
        "      label = np.zeros((2))\n",
        "      label[i] = label[i]+1\n",
        "      pred_label.append(label)\n",
        "    pred_label = np.array(pred_label)\n",
        "\n",
        "    acc = accuracy_score(test_labels,pred_label)\n",
        "    print(acc)"
      ],
      "execution_count": null,
      "outputs": []
    },
    {
      "cell_type": "code",
      "metadata": {
        "id": "sd6icyW-1SgZ"
      },
      "source": [
        "from mealpy.swarm_based.GWO import BaseGWO\n",
        "from sklearn.metrics import accuracy_score\n",
        "\n",
        "\n",
        "\n",
        "def objective(solution=None):\n",
        "    fuzzymeasures = np.array([solution[0],solution[1],solution[2]])\n",
        "    l = Symbol('l', real = True)\n",
        "    lam = solve(  ( 1 + l* fuzzymeasures[0]) * ( 1 + l* fuzzymeasures[1]) *( 1 + l* fuzzymeasures[2]) - (l+1), l )\n",
        "    if len(lam) < 3:\n",
        "      lam = np.asarray(lam)\n",
        "    else:\n",
        "      lam = np.asarray(lam[1])\n",
        "    Ypred_fuzzy = np.zeros(shape = mobilenet_test.shape, dtype = float)\n",
        "    for sample in range(0,mobilenet_test.shape[0]):\n",
        "        for classes in range(0,2):\n",
        "            scores = np.array([mobilenet_test[sample][classes],resnet_test[sample][classes],densenet_test[sample][classes]])\n",
        "            #print(scores.shape)\n",
        "            permutedidx = np.flip(np.argsort(scores))\n",
        "            #print(permutedidx.shape)\n",
        "            scoreslambda = scores[permutedidx]\n",
        "            #print(scoreslambda.shape)\n",
        "            fmlambda = fuzzymeasures[permutedidx]\n",
        "\n",
        "            ge_prev = fmlambda[0]\n",
        "            fuzzyprediction = np.min(scoreslambda[0], fmlambda[0])\n",
        "\n",
        "            for i in range(1,3):\n",
        "                ge_curr = ge_prev + fmlambda[i] + lam * fmlambda[i] * ge_prev\n",
        "                fuzzyprediction = np.max(fuzzyprediction,np.min(scoreslambda[i],ge_curr))\n",
        "                ge_prev = ge_curr\n",
        "\n",
        "            Ypred_fuzzy[sample][classes] = fuzzyprediction\n",
        "    ypred_fuzzy = np.argmax(Ypred_fuzzy, axis=1)\n",
        "    pred_label = []\n",
        "    for i in ypred_fuzzy:\n",
        "      label = np.zeros((2))\n",
        "      label[i] = label[i]+1\n",
        "      pred_label.append(label)\n",
        "    pred_label = np.array(pred_label)\n",
        "    acc = accuracy_score(val_labels,pred_label)\n",
        "    #print(acc)\n",
        "    return -acc\n",
        "obj_func = objective\n",
        "\n",
        "\n",
        "lb = [0]\n",
        "ub = [1]\n",
        "problem_size = 3\n",
        "batch_size = 16\n",
        "verbose = True\n",
        "epoch = 30\n",
        "pop_size = 50\n",
        "\n",
        "pc = 0.95\n",
        "pm = 0.025\n",
        "\n",
        "md2 = BaseGWO(obj_func, lb, ub, problem_size, batch_size, verbose, epoch, pop_size)\n",
        "best_pos1, best_fit1, list_loss1 = md2.train()\n",
        "print(md2.solution[0])\n",
        "print(md2.solution[1])"
      ],
      "execution_count": null,
      "outputs": []
    },
    {
      "cell_type": "code",
      "metadata": {
        "id": "4spde7V43dGv"
      },
      "source": [
        "from mealpy.swarm_based.ALO import BaseALO\n",
        "from sklearn.metrics import accuracy_score\n",
        "\n",
        "\n",
        "\n",
        "def objective(solution=None):\n",
        "    fuzzymeasures = np.array([solution[0],solution[1],solution[2]])\n",
        "    l = Symbol('l', real = True)\n",
        "    lam = solve(  ( 1 + l* fuzzymeasures[0]) * ( 1 + l* fuzzymeasures[1]) *( 1 + l* fuzzymeasures[2]) - (l+1), l )\n",
        "    if len(lam) < 3:\n",
        "      lam = np.asarray(lam)\n",
        "    else:\n",
        "      lam = np.asarray(lam[1])\n",
        "    Ypred_fuzzy = np.zeros(shape = mobilenet_test.shape, dtype = float)\n",
        "    for sample in range(0,mobilenet_test.shape[0]):\n",
        "        for classes in range(0,2):\n",
        "            scores = np.array([mobilenet_test[sample][classes],resnet_test[sample][classes],densenet_test[sample][classes]])\n",
        "            #print(scores.shape)\n",
        "            permutedidx = np.flip(np.argsort(scores))\n",
        "            #print(permutedidx.shape)\n",
        "            scoreslambda = scores[permutedidx]\n",
        "            #print(scoreslambda.shape)\n",
        "            fmlambda = fuzzymeasures[permutedidx]\n",
        "\n",
        "            ge_prev = fmlambda[0]\n",
        "            fuzzyprediction = np.min(scoreslambda[0], fmlambda[0])\n",
        "\n",
        "            for i in range(1,3):\n",
        "                ge_curr = ge_prev + fmlambda[i] + lam * fmlambda[i] * ge_prev\n",
        "                fuzzyprediction = np.max(fuzzyprediction,np.min(scoreslambda[i],ge_curr))\n",
        "                ge_prev = ge_curr\n",
        "\n",
        "            Ypred_fuzzy[sample][classes] = fuzzyprediction\n",
        "    ypred_fuzzy = np.argmax(Ypred_fuzzy, axis=1)\n",
        "    pred_label = []\n",
        "    for i in ypred_fuzzy:\n",
        "      label = np.zeros((2))\n",
        "      label[i] = label[i]+1\n",
        "      pred_label.append(label)\n",
        "    pred_label = np.array(pred_label)\n",
        "    acc = accuracy_score(val_labels,pred_label)\n",
        "    #print(acc)\n",
        "    return -acc\n",
        "obj_func = objective\n",
        "\n",
        "\n",
        "lb = [0]\n",
        "ub = [1]\n",
        "problem_size = 3\n",
        "batch_size = 32\n",
        "verbose = True\n",
        "epoch = 100\n",
        "pop_size = 200\n",
        "\n",
        "pc = 0.95\n",
        "pm = 0.025\n",
        "\n",
        "md2 = BaseALO(obj_func, lb, ub, problem_size, batch_size, verbose, epoch, pop_size)\n",
        "best_pos1, best_fit1, list_loss1 = md2.train()\n",
        "print(md2.solution[0])\n",
        "print(md2.solution[1])"
      ],
      "execution_count": null,
      "outputs": []
    },
    {
      "cell_type": "code",
      "metadata": {
        "id": "FFWRnTpjtOO-"
      },
      "source": [
        "    fuzzymeasures = np.array([0.69415197,0.90141054,0.80896715])\n",
        "    Ypred_fuzzy = np.zeros(shape = mobilenet2_test.shape, dtype = float)\n",
        "    for sample in range(0,mobilenet_test.shape[0]):\n",
        "        for classes in range(0,2):\n",
        "            scores = np.array([mobilenet_test[sample][classes],resnet_test[sample][classes],densenet_test[sample][classes]])\n",
        "            #print(scores.shape)\n",
        "            permutedidx = np.flip(np.argsort(scores))\n",
        "            #print(permutedidx.shape)\n",
        "            scoreslambda = scores[permutedidx]\n",
        "            #print(scoreslambda.shape)\n",
        "            fmlambda = fuzzymeasures[permutedidx]\n",
        "\n",
        "            ge_prev = fmlambda[0]\n",
        "            fuzzyprediction = np.min(scoreslambda[0], fmlambda[0])\n",
        "\n",
        "            for i in range(1,3):\n",
        "                ge_curr = ge_prev + fmlambda[i] + lam * fmlambda[i] * ge_prev\n",
        "                fuzzyprediction = np.max(fuzzyprediction,np.min(scoreslambda[i],ge_curr))\n",
        "                ge_prev = ge_curr\n",
        "\n",
        "            Ypred_fuzzy[sample][classes] = fuzzyprediction\n",
        "    ypred_fuzzy = np.argmax(Ypred_fuzzy, axis=1)\n",
        "    pred_label = []\n",
        "    for i in ypred_fuzzy:\n",
        "      label = np.zeros((2))\n",
        "      label[i] = label[i]+1\n",
        "      pred_label.append(label)\n",
        "    pred_label = np.array(pred_label)\n",
        "\n",
        "    acc = accuracy_score(test_labels,pred_label)\n",
        "    print(acc)"
      ],
      "execution_count": null,
      "outputs": []
    },
    {
      "cell_type": "code",
      "metadata": {
        "id": "4NZ4f2RK6lEe"
      },
      "source": [
        "from mealpy.physics_based.SA import BaseSA\n",
        "from sklearn.metrics import accuracy_score\n",
        "\n",
        "\n",
        "\n",
        "def objective(solution=None):\n",
        "    \n",
        "    fuzzymeasures = np.array([solution[0],solution[1],solution[2]])\n",
        "    l = Symbol('l', real = True)\n",
        "    lam = solve(  ( 1 + l* fuzzymeasures[0]) * ( 1 + l* fuzzymeasures[1]) *( 1 + l* fuzzymeasures[2]) - (l+1), l )\n",
        "    if len(lam) < 3:\n",
        "      lam = np.asarray(lam)\n",
        "    else:\n",
        "      lam = np.asarray(lam[1])\n",
        "    Ypred_fuzzy = np.zeros(shape = mobilenet_test.shape, dtype = float)\n",
        "    for sample in range(0,mobilenet_test.shape[0]):\n",
        "        for classes in range(0,2):\n",
        "            scores = np.array([mobilenet_test[sample][classes],resnet_test[sample][classes],densenet_test[sample][classes]])\n",
        "            #print(scores.shape)\n",
        "            permutedidx = np.flip(np.argsort(scores))\n",
        "            #print(permutedidx.shape)\n",
        "            scoreslambda = scores[permutedidx]\n",
        "            #print(scoreslambda.shape)\n",
        "            fmlambda = fuzzymeasures[permutedidx]\n",
        "\n",
        "            ge_prev = fmlambda[0]\n",
        "            fuzzyprediction = np.min(scoreslambda[0], fmlambda[0])\n",
        "\n",
        "            for i in range(1,3):\n",
        "                ge_curr = ge_prev + fmlambda[i] + lam * fmlambda[i] * ge_prev\n",
        "                fuzzyprediction = np.max(fuzzyprediction,np.min(scoreslambda[i],ge_curr))\n",
        "                ge_prev = ge_curr\n",
        "\n",
        "            Ypred_fuzzy[sample][classes] = fuzzyprediction\n",
        "    ypred_fuzzy = np.argmax(Ypred_fuzzy, axis=1)\n",
        "    pred_label = []\n",
        "    for i in ypred_fuzzy:\n",
        "      label = np.zeros((2))\n",
        "      label[i] = label[i]+1\n",
        "      pred_label.append(label)\n",
        "    pred_label = np.array(pred_label)\n",
        "    acc = accuracy_score(val_labels,pred_label)\n",
        "    #print(acc)\n",
        "    return -acc\n",
        "obj_func = objective\n",
        "\n",
        "lb = [0]\n",
        "ub = [1]\n",
        "problem_size = 3\n",
        "batch_size = 4\n",
        "verbose = True\n",
        "epoch = 100\n",
        "pop_size = 100\n",
        "\n",
        "\n",
        "pc = 0.9\n",
        "pm = 0.02\n",
        "\n",
        "md2 = BaseSA(obj_func, lb, ub, problem_size, batch_size, verbose, epoch, pop_size)\n",
        "best_pos1, best_fit1, list_loss1 = md2.train()\n",
        "print(md2.solution[0])\n",
        "print(md2.solution[1])"
      ],
      "execution_count": null,
      "outputs": []
    },
    {
      "cell_type": "code",
      "metadata": {
        "id": "83qA6Zq0GkCi"
      },
      "source": [
        "    fuzzymeasures = np.array([0.82761983 1.06492615 1.26400566])\n",
        "    l = Symbol('l', real = True)\n",
        "    lam = solve(  ( 1 + l* fuzzymeasures[0]) * ( 1 + l* fuzzymeasures[1]) *( 1 + l* fuzzymeasures[2]) - (l+1), l )\n",
        "    if len(lam) < 3:\n",
        "      lam = np.asarray(lam)\n",
        "    else:\n",
        "      lam = np.asarray(lam[1])\n",
        "    Ypred_fuzzy = np.zeros(shape = mobilenet_test.shape, dtype = float)\n",
        "    for sample in range(0,mobilenet_test.shape[0]):\n",
        "        for classes in range(0,2):\n",
        "            scores = np.array([mobilenet_test[sample][classes],resnet_test[sample][classes],densenet_test[sample][classes]])\n",
        "            #print(scores.shape)\n",
        "            permutedidx = np.flip(np.argsort(scores))\n",
        "            #print(permutedidx.shape)\n",
        "            scoreslambda = scores[permutedidx]\n",
        "            #print(scoreslambda.shape)\n",
        "            fmlambda = fuzzymeasures[permutedidx]\n",
        "\n",
        "            ge_prev = fmlambda[0]\n",
        "            fuzzyprediction = np.min(scoreslambda[0], fmlambda[0])\n",
        "\n",
        "            for i in range(1,3):\n",
        "                ge_curr = ge_prev + fmlambda[i] + lam * fmlambda[i] * ge_prev\n",
        "                fuzzyprediction = np.max(fuzzyprediction,np.min(scoreslambda[i],ge_curr))\n",
        "                ge_prev = ge_curr\n",
        "\n",
        "            Ypred_fuzzy[sample][classes] = fuzzyprediction\n",
        "    ypred_fuzzy = np.argmax(Ypred_fuzzy, axis=1)\n",
        "    pred_label = []\n",
        "    for i in ypred_fuzzy:\n",
        "      label = np.zeros((2))\n",
        "      label[i] = label[i]+1\n",
        "      pred_label.append(label)\n",
        "    pred_label = np.array(pred_label)\n",
        "\n",
        "    acc = accuracy_score(val_labels,pred_label)"
      ],
      "execution_count": null,
      "outputs": []
    },
    {
      "cell_type": "code",
      "metadata": {
        "id": "IXFN0wnOLrE-"
      },
      "source": [
        "from mealpy.swarm_based.WOA import BaseWOA\n",
        "from sklearn.metrics import accuracy_score\n",
        "\n",
        "\n",
        "\n",
        "def objective(solution=None):\n",
        "    fuzzymeasures = np.array([solution[0],solution[1],solution[2]])\n",
        "    l = Symbol('l', real = True)\n",
        "    lam = solve(  ( 1 + l* fuzzymeasures[0]) * ( 1 + l* fuzzymeasures[1]) *( 1 + l* fuzzymeasures[2]) - (l+1), l )\n",
        "    if len(lam) < 3:\n",
        "      lam = np.asarray(lam)\n",
        "    else:\n",
        "      lam = np.asarray(lam[1])\n",
        "    Ypred_fuzzy = np.zeros(shape = mobilenet_test.shape, dtype = float)\n",
        "    for sample in range(0,mobilenet_test.shape[0]):\n",
        "        for classes in range(0,2):\n",
        "            scores = np.array([mobilenet_test[sample][classes],resnet_test[sample][classes],densenet_test[sample][classes]])\n",
        "            #print(scores.shape)\n",
        "            permutedidx = np.flip(np.argsort(scores))\n",
        "            #print(permutedidx.shape)\n",
        "            scoreslambda = scores[permutedidx]\n",
        "            #print(scoreslambda.shape)\n",
        "            fmlambda = fuzzymeasures[permutedidx]\n",
        "\n",
        "            ge_prev = fmlambda[0]\n",
        "            fuzzyprediction = np.min(scoreslambda[0], fmlambda[0])\n",
        "\n",
        "            for i in range(1,3):\n",
        "                ge_curr = ge_prev + fmlambda[i] + lam * fmlambda[i] * ge_prev\n",
        "                fuzzyprediction = np.max(fuzzyprediction,np.min(scoreslambda[i],ge_curr))\n",
        "                ge_prev = ge_curr\n",
        "\n",
        "            Ypred_fuzzy[sample][classes] = fuzzyprediction\n",
        "    ypred_fuzzy = np.argmax(Ypred_fuzzy, axis=1)\n",
        "    pred_label = []\n",
        "    for i in ypred_fuzzy:\n",
        "      label = np.zeros((2))\n",
        "      label[i] = label[i]+1\n",
        "      pred_label.append(label)\n",
        "    pred_label = np.array(pred_label)\n",
        "    acc = accuracy_score(val_labels,pred_label)\n",
        "    #print(acc)\n",
        "    return -acc\n",
        "obj_func = objective\n",
        "\n",
        "\n",
        "lb = [0]\n",
        "ub = [1]\n",
        "problem_size = 3\n",
        "batch_size = 16\n",
        "verbose = True\n",
        "epoch = 25\n",
        "pop_size = 100\n",
        "\n",
        "pc = 0.95\n",
        "pm = 0.025\n",
        "\n",
        "md2 = BaseWOA(obj_func, lb, ub, problem_size, batch_size, verbose, epoch, pop_size)\n",
        "best_pos1, best_fit1, list_loss1 = md2.train()\n",
        "print(md2.solution[0])\n",
        "print(md2.solution[1])"
      ],
      "execution_count": null,
      "outputs": []
    },
    {
      "cell_type": "code",
      "metadata": {
        "id": "XOo6giDAB99a"
      },
      "source": [
        "    fuzzymeasures = np.array([0.16065645,0.99115229,0.56586762])\n",
        "    Ypred_fuzzy = np.zeros(shape = mobilenet2_test.shape, dtype = float)\n",
        "    for sample in range(0,mobilenet_test.shape[0]):\n",
        "        for classes in range(0,2):\n",
        "            scores = np.array([mobilenet_test[sample][classes],resnet_test[sample][classes],densenet_test[sample][classes]])\n",
        "            #print(scores.shape)\n",
        "            permutedidx = np.flip(np.argsort(scores))\n",
        "            #print(permutedidx.shape)\n",
        "            scoreslambda = scores[permutedidx]\n",
        "            #print(scoreslambda.shape)\n",
        "            fmlambda = fuzzymeasures[permutedidx]\n",
        "\n",
        "            ge_prev = fmlambda[0]\n",
        "            fuzzyprediction = np.min(scoreslambda[0], fmlambda[0])\n",
        "\n",
        "            for i in range(1,3):\n",
        "                ge_curr = ge_prev + fmlambda[i] + lam * fmlambda[i] * ge_prev\n",
        "                fuzzyprediction = np.max(fuzzyprediction,np.min(scoreslambda[i],ge_curr))\n",
        "                ge_prev = ge_curr\n",
        "\n",
        "            Ypred_fuzzy[sample][classes] = fuzzyprediction\n",
        "    ypred_fuzzy = np.argmax(Ypred_fuzzy, axis=1)\n",
        "    pred_label = []\n",
        "    for i in ypred_fuzzy:\n",
        "      label = np.zeros((2))\n",
        "      label[i] = label[i]+1\n",
        "      pred_label.append(label)\n",
        "    pred_label = np.array(pred_label)\n",
        "\n",
        "    acc = accuracy_score(test_labels,pred_label)"
      ],
      "execution_count": null,
      "outputs": []
    },
    {
      "cell_type": "code",
      "metadata": {
        "id": "HSOS_z70LrvV"
      },
      "source": [
        "from mealpy.evolutionary_based.DE import BaseDE\n",
        "from sklearn.metrics import accuracy_score\n",
        "\n",
        "\n",
        "\n",
        "def objective(solution=None):\n",
        "    \n",
        "    fuzzymeasures = np.array([solution[0],solution[1],solution[2]])\n",
        "    l = Symbol('l', real = True)\n",
        "    lam = solve(  ( 1 + l* fuzzymeasures[0]) * ( 1 + l* fuzzymeasures[1]) *( 1 + l* fuzzymeasures[2]) - (l+1), l )\n",
        "    if len(lam) < 3:\n",
        "      lam = np.asarray(lam)\n",
        "    else:\n",
        "      lam = np.asarray(lam[1])\n",
        "    Ypred_fuzzy = np.zeros(shape = mobilenet_test.shape, dtype = float)\n",
        "    for sample in range(0,mobilenet_test.shape[0]):\n",
        "        for classes in range(0,2):\n",
        "            scores = np.array([mobilenet_test[sample][classes],resnet_test[sample][classes],densenet_test[sample][classes]])\n",
        "            #print(scores.shape)\n",
        "            permutedidx = np.flip(np.argsort(scores))\n",
        "            #print(permutedidx.shape)\n",
        "            scoreslambda = scores[permutedidx]\n",
        "            #print(scoreslambda.shape)\n",
        "            fmlambda = fuzzymeasures[permutedidx]\n",
        "\n",
        "            ge_prev = fmlambda[0]\n",
        "            fuzzyprediction = np.min(scoreslambda[0], fmlambda[0])\n",
        "\n",
        "            for i in range(1,3):\n",
        "                ge_curr = ge_prev + fmlambda[i] + lam * fmlambda[i] * ge_prev\n",
        "                fuzzyprediction = np.max(fuzzyprediction,np.min(scoreslambda[i],ge_curr))\n",
        "                ge_prev = ge_curr\n",
        "\n",
        "            Ypred_fuzzy[sample][classes] = fuzzyprediction\n",
        "    ypred_fuzzy = np.argmax(Ypred_fuzzy, axis=1)\n",
        "    pred_label = []\n",
        "    for i in ypred_fuzzy:\n",
        "      label = np.zeros((2))\n",
        "      label[i] = label[i]+1\n",
        "      pred_label.append(label)\n",
        "    pred_label = np.array(pred_label)\n",
        "    acc = accuracy_score(val_labels,pred_label)\n",
        "    #print(acc)\n",
        "    return -acc\n",
        "obj_func = objective\n",
        "\n",
        "lb = [0]\n",
        "ub = [1]\n",
        "problem_size = 3\n",
        "batch_size = 32\n",
        "verbose = True\n",
        "epoch = 100\n",
        "pop_size = 150\n",
        "\n",
        "pc = 0.95\n",
        "pm = 0.025\n",
        "\n",
        "md2 = BaseDE(obj_func, lb, ub, problem_size, batch_size, verbose, epoch, pop_size)\n",
        "best_pos1, best_fit1, list_loss1 = md2.train()\n",
        "print(md2.solution[0])\n",
        "print(md2.solution[1])"
      ],
      "execution_count": null,
      "outputs": []
    },
    {
      "cell_type": "code",
      "metadata": {
        "id": "vof_XzdCTHrQ"
      },
      "source": [
        ""
      ],
      "execution_count": null,
      "outputs": []
    },
    {
      "cell_type": "code",
      "metadata": {
        "id": "IKVCbHlFTHtz"
      },
      "source": [
        ""
      ],
      "execution_count": null,
      "outputs": []
    },
    {
      "cell_type": "code",
      "metadata": {
        "id": "9H1-KiPsuQkh"
      },
      "source": [
        ""
      ],
      "execution_count": null,
      "outputs": []
    },
    {
      "cell_type": "code",
      "metadata": {
        "id": "Rw5YjuPgf6k0"
      },
      "source": [
        ""
      ],
      "execution_count": null,
      "outputs": []
    },
    {
      "cell_type": "code",
      "metadata": {
        "id": "Gg-nSwYPGMtf"
      },
      "source": [
        "    fuzzymeasures = np.array([0.75523624,0.52702442,0.80056234])\n",
        "\n",
        "    Ypred_fuzzy = np.zeros(shape = mobilenet2_test.shape, dtype = float)\n",
        "    for sample in range(0,mobilenet_test.shape[0]):\n",
        "        for classes in range(0,2):\n",
        "            scores = np.array([mobilenet_test[sample][classes],resnet_test[sample][classes],densenet_test[sample][classes]])\n",
        "            #print(scores.shape)\n",
        "            permutedidx = np.flip(np.argsort(scores))\n",
        "            #print(permutedidx.shape)\n",
        "            scoreslambda = scores[permutedidx]\n",
        "            #print(scoreslambda.shape)\n",
        "            fmlambda = fuzzymeasures[permutedidx]\n",
        "\n",
        "            ge_prev = fmlambda[0]\n",
        "            fuzzyprediction = np.min(scoreslambda[0], fmlambda[0])\n",
        "\n",
        "            for i in range(1,3):\n",
        "                ge_curr = ge_prev + fmlambda[i] + lam * fmlambda[i] * ge_prev\n",
        "                fuzzyprediction = np.max(fuzzyprediction,np.min(scoreslambda[i],ge_curr))\n",
        "                ge_prev = ge_curr\n",
        "\n",
        "            Ypred_fuzzy[sample][classes] = fuzzyprediction\n",
        "    ypred_fuzzy = np.argmax(Ypred_fuzzy, axis=1)\n",
        "    pred_label = []\n",
        "    for i in ypred_fuzzy:\n",
        "      label = np.zeros((2))\n",
        "      label[i] = label[i]+1\n",
        "      pred_label.append(label)\n",
        "    pred_label = np.array(pred_label)\n",
        "\n",
        "    acc = accuracy_score(test_labels,pred_label)\n",
        "    print(acc)"
      ],
      "execution_count": null,
      "outputs": []
    },
    {
      "cell_type": "code",
      "metadata": {
        "id": "cfwZ1a0WVngt"
      },
      "source": [
        "from mealpy.swarm_based.WOA import BaseWOA\n",
        "from sklearn.metrics import accuracy_score\n",
        "\n",
        "\n",
        "\n",
        "def objective(solution=None):\n",
        "    \n",
        "    fuzzymeasures = np.array([solution[0],solution[1],solution[2]])\n",
        "    l = Symbol('l', real = True)\n",
        "    lam = solve(  ( 1 + l* fuzzymeasures[0]) * ( 1 + l* fuzzymeasures[1]) *( 1 + l* fuzzymeasures[2]) - (l+1), l )\n",
        "    if len(lam) < 3:\n",
        "      lam = np.asarray(lam)\n",
        "    else:\n",
        "      lam = np.asarray(lam[1])\n",
        "    Ypred_fuzzy = np.zeros(shape = mobilenet_test.shape, dtype = float)\n",
        "    for sample in range(0,mobilenet_test.shape[0]):\n",
        "        for classes in range(0,2):\n",
        "            scores = np.array([mobilenet_test[sample][classes],resnet_test[sample][classes],densenet_test[sample][classes]])\n",
        "            #print(scores.shape)\n",
        "            permutedidx = np.flip(np.argsort(scores))\n",
        "            #print(permutedidx.shape)\n",
        "            scoreslambda = scores[permutedidx]\n",
        "            #print(scoreslambda.shape)\n",
        "            fmlambda = fuzzymeasures[permutedidx]\n",
        "\n",
        "            ge_prev = fmlambda[0]\n",
        "            fuzzyprediction = np.min(scoreslambda[0], fmlambda[0])\n",
        "\n",
        "            for i in range(1,3):\n",
        "                ge_curr = ge_prev + fmlambda[i] + lam * fmlambda[i] * ge_prev\n",
        "                fuzzyprediction = np.max(fuzzyprediction,np.min(scoreslambda[i],ge_curr))\n",
        "                ge_prev = ge_curr\n",
        "\n",
        "            Ypred_fuzzy[sample][classes] = fuzzyprediction\n",
        "    ypred_fuzzy = np.argmax(Ypred_fuzzy, axis=1)\n",
        "    pred_label = []\n",
        "    for i in ypred_fuzzy:\n",
        "      label = np.zeros((2))\n",
        "      label[i] = label[i]+1\n",
        "      pred_label.append(label)\n",
        "    pred_label = np.array(pred_label)\n",
        "    acc = accuracy_score(val_labels,pred_label)\n",
        "    #print(acc)\n",
        "    return -acc\n",
        "obj_func = objective\n",
        "\n",
        "lb = [0]\n",
        "ub = [1]\n",
        "problem_size = 3\n",
        "batch_size = 32\n",
        "verbose = True\n",
        "epoch = 50\n",
        "pop_size =50\n",
        "\n",
        "pc = 0.95\n",
        "pm = 0.025\n",
        "\n",
        "md2 = BaseWOA(obj_func, lb, ub, problem_size, batch_size, verbose, epoch, pop_size)\n",
        "best_pos1, best_fit1, list_loss1 = md2.train()\n",
        "print(md2.solution[0])\n",
        "print(md2.solution[1])"
      ],
      "execution_count": null,
      "outputs": []
    },
    {
      "cell_type": "code",
      "metadata": {
        "id": "9VJja2A1VX0_"
      },
      "source": [
        "from scipy.optimize import differential_evolution\n",
        "KRR_alpha_lim = (0,1)\n",
        "boundaries = [KRR_alpha_lim] + [KRR_alpha_lim] + [KRR_alpha_lim]\n",
        "extra_variables = (val_data,val_labels)\n",
        "number_of_classes = 2\n",
        "\n",
        "def objective(hyperparameters,x,y):\n",
        "    alpha,beta,gamma = hyperparameters\n",
        "    fuzzymeasures = np.array([alpha,beta,gamma])\n",
        "    l = Symbol('l', real = True)\n",
        "    lam = solve(  ( 1 + l* fuzzymeasures[0]) * ( 1 + l* fuzzymeasures[1]) *( 1 + l* fuzzymeasures[2]) - (l+1), l )\n",
        "    if len(lam) < 3:\n",
        "      lam = np.asarray(lam)\n",
        "    else:\n",
        "      lam = np.asarray(lam[1])\n",
        "    Ypred_fuzzy = np.zeros(shape = mobilenet_test.shape, dtype = float)\n",
        "     for sample in range(0,mobilenet_test.shape[0]):\n",
        "        for classes in range(0,2):\n",
        "            scores = np.array([mobilenet_test[sample][classes],resnet_test[sample][classes],densenet_test[sample][classes]])\n",
        "            #print(scores.shape)\n",
        "            permutedidx = np.flip(np.argsort(scores))\n",
        "            #print(permutedidx.shape)\n",
        "            scoreslambda = scores[permutedidx]\n",
        "            #print(scoreslambda.shape)\n",
        "            fmlambda = fuzzymeasures[permutedidx]\n",
        "\n",
        "            ge_prev = fmlambda[0]\n",
        "            fuzzyprediction = np.min(scoreslambda[0], fmlambda[0])\n",
        "\n",
        "            for i in range(1,3):\n",
        "                ge_curr = ge_prev + fmlambda[i] + lam * fmlambda[i] * ge_prev\n",
        "                fuzzyprediction = np.max(fuzzyprediction,np.min(scoreslambda[i],ge_curr))\n",
        "                ge_prev = ge_curr\n",
        "\n",
        "            Ypred_fuzzy[sample][classes] = fuzzyprediction\n",
        "    ypred_fuzzy = np.argmax(Ypred_fuzzy, axis=1)\n",
        "    pred_label = []\n",
        "    for i in ypred_fuzzy:\n",
        "      label = np.zeros((2))\n",
        "      label[i] = label[i]+1\n",
        "      pred_label.append(label)\n",
        "    pred_label = np.array(pred_label)\n",
        "    acc = accuracy_score(val_labels,pred_label)\n",
        "    return -acc\n",
        "    \n",
        "solver = differential_evolution(objective,boundaries,args=(extra_variables)) "
      ],
      "execution_count": null,
      "outputs": []
    },
    {
      "cell_type": "code",
      "metadata": {
        "id": "VY2H_3rDVX3U"
      },
      "source": [
        "best_hyperparams = solver.x\n",
        "best_rmse = solver.fun"
      ],
      "execution_count": null,
      "outputs": []
    },
    {
      "cell_type": "code",
      "metadata": {
        "id": "ZEdh8odVVX6H"
      },
      "source": [
        "print(best_hyperparams,best_rmse)"
      ],
      "execution_count": null,
      "outputs": []
    },
    {
      "cell_type": "code",
      "metadata": {
        "id": "AHMzj73IVX9T"
      },
      "source": [
        "best_rmse"
      ],
      "execution_count": null,
      "outputs": []
    },
    {
      "cell_type": "code",
      "metadata": {
        "id": "JCLkrvfgVX_l"
      },
      "source": [
        "    import numpy as np\n",
        "\n",
        "    from sympy.solvers import solve\n",
        "    from sympy import Symbol\n",
        "    fuzzymeasures = np.array([0.69415197,0.90141054,0.80896715])\n",
        "    l = Symbol('l', real = True)\n",
        "    lam = solve(  ( 1 + l* fuzzymeasures[0]) * ( 1 + l* fuzzymeasures[1]) *( 1 + l* fuzzymeasures[2]) - (l+1), l )\n",
        "    if len(lam) < 3:\n",
        "      lam = np.asarray(lam)\n",
        "    else:\n",
        "      lam = np.asarray(lam[2])"
      ],
      "execution_count": null,
      "outputs": []
    },
    {
      "cell_type": "code",
      "source": [
        "\n",
        "lam"
      ],
      "metadata": {
        "id": "6WpaDhokhmcv"
      },
      "execution_count": null,
      "outputs": []
    },
    {
      "cell_type": "code",
      "source": [
        "mobilenet_test = np.asarray([[0.2,0.3,0.2]],dtype = float);\n",
        "resnet_test = np.asarray([[0.1,0.2,0.7]],dtype = float);\n",
        "densenet_test = np.asarray([[0.2,0.3,0.5]],dtype= float);\n",
        "\n"
      ],
      "metadata": {
        "id": "XSijEWqHjw_E"
      },
      "execution_count": null,
      "outputs": []
    },
    {
      "cell_type": "code",
      "metadata": {
        "id": "WL1FQld3u0kP"
      },
      "source": [
        "Ypred_fuzzy = np.zeros(shape = mobilenet_test.shape, dtype = float)\n",
        "for sample in range(0,mobilenet_test.shape[0]):\n",
        "  for classes in range(0,2):\n",
        "    scores = np.array([mobilenet_test[sample][classes],resnet_test[sample][classes],densenet_test[sample][classes]])\n",
        "            #print(scores.shape)\n",
        "    permutedidx = np.flip(np.argsort(scores))\n",
        "            #print(permutedidx.shape)\n",
        "    scoreslambda = scores[permutedidx]\n",
        "            #print(scoreslambda.shape)\n",
        "    fmlambda = fuzzymeasures[permutedidx]\n",
        "\n",
        "    ge_prev = fmlambda[0]\n",
        "    fuzzyprediction = np.minimum(scoreslambda[0], fmlambda[0])\n",
        "\n",
        "    for i in range(1,3):\n",
        "      ge_curr = ge_prev + fmlambda[i] + lam * fmlambda[i] * ge_prev\n",
        "      fuzzyprediction = np.maximum(fuzzyprediction,np.minimum(scoreslambda[i],ge_curr))\n",
        "      ge_prev = ge_curr\n",
        "\n",
        "    Ypred_fuzzy[sample][classes] = fuzzyprediction\n"
      ],
      "execution_count": null,
      "outputs": []
    },
    {
      "cell_type": "code",
      "metadata": {
        "id": "ewkc1QkLVYCN"
      },
      "source": [
        "Ypred_fuzzy"
      ],
      "execution_count": null,
      "outputs": []
    },
    {
      "cell_type": "markdown",
      "metadata": {
        "id": "x70uchPGoAqo"
      },
      "source": [
        "#generating labels"
      ]
    },
    {
      "cell_type": "code",
      "metadata": {
        "id": "AuyfEnVcVYEf"
      },
      "source": [
        "densenet2_test = in_pred.predict(test_data)\n",
        "resnet2_test = in_pred4.predict(test_data)\n",
        "vgg2_test = in_pred45.predict(test_data)"
      ],
      "execution_count": null,
      "outputs": []
    },
    {
      "cell_type": "markdown",
      "metadata": {
        "id": "UZu4bZuNnJnA"
      },
      "source": [
        "#Generating predicted labels"
      ]
    },
    {
      "cell_type": "code",
      "metadata": {
        "id": "GDMVpzODnPJI"
      },
      "source": [
        " \n",
        "Y_test_densenet = np.argmax(densenet2_test, axis=1)\n",
        "Y_test_vgg = np.argmax(vgg2_test, axis=1)\n",
        "Y_test_resnet = np.argmax(resnet2_test, axis=1)\n",
        "Y_pred= np.argmax(test_labels, axis=1)"
      ],
      "execution_count": null,
      "outputs": []
    },
    {
      "cell_type": "code",
      "metadata": {
        "id": "1hdLp_RE9o0X"
      },
      "source": [
        ""
      ],
      "execution_count": null,
      "outputs": []
    },
    {
      "cell_type": "code",
      "metadata": {
        "id": "TH2FtIy49o27"
      },
      "source": [
        ""
      ],
      "execution_count": null,
      "outputs": []
    },
    {
      "cell_type": "code",
      "metadata": {
        "id": "u_SJJmbF9o5T"
      },
      "source": [
        ""
      ],
      "execution_count": null,
      "outputs": []
    },
    {
      "cell_type": "code",
      "metadata": {
        "id": "decLOzKo9o72"
      },
      "source": [
        ""
      ],
      "execution_count": null,
      "outputs": []
    },
    {
      "cell_type": "markdown",
      "metadata": {
        "id": "_pu4VdHFrEEJ"
      },
      "source": [
        "#average ensembeling"
      ]
    },
    {
      "cell_type": "code",
      "metadata": {
        "id": "dmyYvYknnPO1"
      },
      "source": [
        "y_pred = np.average([Y_test_densenet,Y_test_vgg,Y_test_resnet],axis = 0)"
      ],
      "execution_count": null,
      "outputs": []
    },
    {
      "cell_type": "code",
      "metadata": {
        "id": "8_JdiOx_89NH"
      },
      "source": [
        "y_pred = np.around(y_pred).astype(int)"
      ],
      "execution_count": null,
      "outputs": []
    },
    {
      "cell_type": "code",
      "metadata": {
        "id": "XYcmW0xBHamG"
      },
      "source": [
        "y_pred"
      ],
      "execution_count": null,
      "outputs": []
    },
    {
      "cell_type": "code",
      "metadata": {
        "id": "zFSDmV44nPRE"
      },
      "source": [
        "print(accuracy_score(Y_pred,y_pred))\n",
        "print(confusion_matrix(Y_pred,y_pred))\n",
        "print(classification_report(Y_pred,y_pred))"
      ],
      "execution_count": null,
      "outputs": []
    },
    {
      "cell_type": "markdown",
      "metadata": {
        "id": "u65B_owE9eCz"
      },
      "source": [
        "#weighted average using val accuracies\n"
      ]
    },
    {
      "cell_type": "code",
      "metadata": {
        "id": "1ts_yfHk9Zo3"
      },
      "source": [
        "y_pred_weight = (Y_test_vgg * inpred45 + Y_test_resnet * inpred4 + Y_test_densenet * inpred)\n",
        "#y_pred_weight = y_pred_weight.astype(int)"
      ],
      "execution_count": null,
      "outputs": []
    },
    {
      "cell_type": "code",
      "metadata": {
        "id": "2Id96sX7kC5w"
      },
      "source": [
        "y_pred_weight"
      ],
      "execution_count": null,
      "outputs": []
    },
    {
      "cell_type": "code",
      "metadata": {
        "id": "NVppyYv7mOgK"
      },
      "source": [
        "y_pred_weight = np.around(y_pred_weight).astype(int)"
      ],
      "execution_count": null,
      "outputs": []
    },
    {
      "cell_type": "code",
      "metadata": {
        "id": "duJiTZ8mlVlO"
      },
      "source": [
        "y_pred_weight"
      ],
      "execution_count": null,
      "outputs": []
    },
    {
      "cell_type": "code",
      "metadata": {
        "id": "V5OY2T1gj_Dg"
      },
      "source": [
        "Y_pred"
      ],
      "execution_count": null,
      "outputs": []
    },
    {
      "cell_type": "code",
      "metadata": {
        "id": "J2b3XxaA-BGE"
      },
      "source": [
        "print(accuracy_score(Y_pred,y_pred_weight))\n",
        "print(classification_report(Y_pred,y_pred_weight))\n",
        "print(confusion_matrix(Y_pred,y_pred_weight))"
      ],
      "execution_count": null,
      "outputs": []
    },
    {
      "cell_type": "markdown",
      "metadata": {
        "id": "lVpL42E1mMBo"
      },
      "source": [
        "#Majority Voting"
      ]
    },
    {
      "cell_type": "code",
      "metadata": {
        "id": "BUP2mifxwnGf"
      },
      "source": [
        "count = 0 \n",
        "total = 0\n",
        "test_pred = Y_test_resnet\n",
        "for i in range(len(Y_pred)):\n",
        "    if Y_pred[i] == Y_test_densenet[i]:\n",
        "        k = Y_test_densenet[i]\n",
        "        count = count+1\n",
        "    if Y_pred[i] == Y_test_resnet[i]:\n",
        "        k = Y_test_resnet[i]\n",
        "        count = count+1\n",
        "    if Y_pred[i] == Y_test_vgg[i]:   \n",
        "        k = Y_test_vgg[i]  \n",
        "        count = count+1\n",
        " \n",
        "    if count == 0 or count == 1:\n",
        "        if k == test_pred[i] and k == 1:\n",
        "            test_pred[i] = test_pred[i]-1\n",
        "        elif k == test_pred[i] and k == 0:\n",
        "            test_pred[i] = test_pred[i]+1\n",
        "    if count == 2 or count == 3:\n",
        "        test_pred[i] = k\n",
        "        total = total+1\n",
        "    count = 0"
      ],
      "execution_count": null,
      "outputs": []
    },
    {
      "cell_type": "code",
      "metadata": {
        "id": "PVml0weFzDQ0"
      },
      "source": [
        "test_pred[1000:1400]"
      ],
      "execution_count": null,
      "outputs": []
    },
    {
      "cell_type": "code",
      "metadata": {
        "id": "z4mw4FFonmZD"
      },
      "source": [
        "test_pred = np.around(test_pred).astype(int)"
      ],
      "execution_count": null,
      "outputs": []
    },
    {
      "cell_type": "code",
      "metadata": {
        "id": "xWpwaE0gmaT9"
      },
      "source": [
        "print(accuracy_score(Y_pred,test_pred))\n",
        "print(classification_report(Y_pred,test_pred))\n",
        "print(confusion_matrix(Y_pred,test_pred))\n"
      ],
      "execution_count": null,
      "outputs": []
    },
    {
      "cell_type": "code",
      "metadata": {
        "id": "zRvP-GBrO7x2"
      },
      "source": [
        ""
      ],
      "execution_count": null,
      "outputs": []
    }
  ]
}